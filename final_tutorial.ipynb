{
 "metadata": {
  "language_info": {
   "codemirror_mode": {
    "name": "ipython",
    "version": 3
   },
   "file_extension": ".py",
   "mimetype": "text/x-python",
   "name": "python",
   "nbconvert_exporter": "python",
   "pygments_lexer": "ipython3",
   "version": "3.8.5-final"
  },
  "orig_nbformat": 2,
  "kernelspec": {
   "name": "python3",
   "display_name": "Python 3.8.5 64-bit",
   "metadata": {
    "interpreter": {
     "hash": "5d6e53b6a9d3962c0917d232f361c65472c03b6615be7d5a07dbd2c4f1728a0d"
    }
   }
  }
 },
 "nbformat": 4,
 "nbformat_minor": 2,
 "cells": [
  {
   "cell_type": "code",
   "execution_count": 7,
   "metadata": {},
   "outputs": [],
   "source": [
    "#Write python code here, then export it to an html file"
   ]
  },
  {
   "cell_type": "code",
   "execution_count": 8,
   "metadata": {},
   "outputs": [
    {
     "output_type": "execute_result",
     "data": {
      "text/plain": [
       "           State Official/Unofficial Total Ballots Counted (Estimate)  \\\n",
       "0  United States                 NaN                      158,835,004   \n",
       "1        Alabama          Unofficial                        2,306,587   \n",
       "2         Alaska                 NaN                          367,000   \n",
       "3        Arizona                 NaN                        3,400,000   \n",
       "4       Arkansas          Unofficial                        1,212,030   \n",
       "\n",
       "  Vote for Highest Office (President) VEP Turnout Rate  \\\n",
       "0                                 NaN            66.4%   \n",
       "1                           2,297,295            62.6%   \n",
       "2                                 NaN            69.8%   \n",
       "3                                 NaN            65.5%   \n",
       "4                           1,206,697            55.5%   \n",
       "\n",
       "  Voting-Eligible Population (VEP) Voting-Age Population (VAP) % Non-citizen  \\\n",
       "0                      239,247,182                 257,605,088          7.8%   \n",
       "1                        3,683,055                   3,837,540          2.3%   \n",
       "2                          525,568                     551,117          3.4%   \n",
       "3                        5,189,000                   5,798,473          8.9%   \n",
       "4                        2,182,375                   2,331,171          3.6%   \n",
       "\n",
       "      Prison  Probation   Parole Total Ineligible Felon Overseas Eligible  \\\n",
       "0  1,461,074  1,962,811  616,440              3,294,457         4,971,025   \n",
       "1     25,898     50,997   10,266                 67,782               NaN   \n",
       "2      4,293      2,074    1,348                  6,927               NaN   \n",
       "3     38,520     76,844    7,536                 93,699               NaN   \n",
       "4     17,510     36,719   24,698                 64,974               NaN   \n",
       "\n",
       "  State Abv  \n",
       "0       NaN  \n",
       "1        AL  \n",
       "2        AK  \n",
       "3        AZ  \n",
       "4        AR  "
      ],
      "text/html": "<div>\n<style scoped>\n    .dataframe tbody tr th:only-of-type {\n        vertical-align: middle;\n    }\n\n    .dataframe tbody tr th {\n        vertical-align: top;\n    }\n\n    .dataframe thead th {\n        text-align: right;\n    }\n</style>\n<table border=\"1\" class=\"dataframe\">\n  <thead>\n    <tr style=\"text-align: right;\">\n      <th></th>\n      <th>State</th>\n      <th>Official/Unofficial</th>\n      <th>Total Ballots Counted (Estimate)</th>\n      <th>Vote for Highest Office (President)</th>\n      <th>VEP Turnout Rate</th>\n      <th>Voting-Eligible Population (VEP)</th>\n      <th>Voting-Age Population (VAP)</th>\n      <th>% Non-citizen</th>\n      <th>Prison</th>\n      <th>Probation</th>\n      <th>Parole</th>\n      <th>Total Ineligible Felon</th>\n      <th>Overseas Eligible</th>\n      <th>State Abv</th>\n    </tr>\n  </thead>\n  <tbody>\n    <tr>\n      <th>0</th>\n      <td>United States</td>\n      <td>NaN</td>\n      <td>158,835,004</td>\n      <td>NaN</td>\n      <td>66.4%</td>\n      <td>239,247,182</td>\n      <td>257,605,088</td>\n      <td>7.8%</td>\n      <td>1,461,074</td>\n      <td>1,962,811</td>\n      <td>616,440</td>\n      <td>3,294,457</td>\n      <td>4,971,025</td>\n      <td>NaN</td>\n    </tr>\n    <tr>\n      <th>1</th>\n      <td>Alabama</td>\n      <td>Unofficial</td>\n      <td>2,306,587</td>\n      <td>2,297,295</td>\n      <td>62.6%</td>\n      <td>3,683,055</td>\n      <td>3,837,540</td>\n      <td>2.3%</td>\n      <td>25,898</td>\n      <td>50,997</td>\n      <td>10,266</td>\n      <td>67,782</td>\n      <td>NaN</td>\n      <td>AL</td>\n    </tr>\n    <tr>\n      <th>2</th>\n      <td>Alaska</td>\n      <td>NaN</td>\n      <td>367,000</td>\n      <td>NaN</td>\n      <td>69.8%</td>\n      <td>525,568</td>\n      <td>551,117</td>\n      <td>3.4%</td>\n      <td>4,293</td>\n      <td>2,074</td>\n      <td>1,348</td>\n      <td>6,927</td>\n      <td>NaN</td>\n      <td>AK</td>\n    </tr>\n    <tr>\n      <th>3</th>\n      <td>Arizona</td>\n      <td>NaN</td>\n      <td>3,400,000</td>\n      <td>NaN</td>\n      <td>65.5%</td>\n      <td>5,189,000</td>\n      <td>5,798,473</td>\n      <td>8.9%</td>\n      <td>38,520</td>\n      <td>76,844</td>\n      <td>7,536</td>\n      <td>93,699</td>\n      <td>NaN</td>\n      <td>AZ</td>\n    </tr>\n    <tr>\n      <th>4</th>\n      <td>Arkansas</td>\n      <td>Unofficial</td>\n      <td>1,212,030</td>\n      <td>1,206,697</td>\n      <td>55.5%</td>\n      <td>2,182,375</td>\n      <td>2,331,171</td>\n      <td>3.6%</td>\n      <td>17,510</td>\n      <td>36,719</td>\n      <td>24,698</td>\n      <td>64,974</td>\n      <td>NaN</td>\n      <td>AR</td>\n    </tr>\n  </tbody>\n</table>\n</div>"
     },
     "metadata": {},
     "execution_count": 8
    }
   ],
   "source": [
    "## data collection\n",
    "import pandas as pd \n",
    "import numpy as np\n",
    "\n",
    "data = pd.read_csv('election_data.csv')\n",
    "del data['Source']\n",
    "data.head()"
   ]
  },
  {
   "cell_type": "code",
   "execution_count": 9,
   "metadata": {},
   "outputs": [],
   "source": [
    "## data processing"
   ]
  },
  {
   "cell_type": "code",
   "execution_count": 10,
   "metadata": {},
   "outputs": [],
   "source": [
    "## data analysis/visualization"
   ]
  },
  {
   "cell_type": "code",
   "execution_count": 11,
   "metadata": {},
   "outputs": [],
   "source": [
    "## hypothesis testing/ML"
   ]
  },
  {
   "cell_type": "code",
   "execution_count": 12,
   "metadata": {},
   "outputs": [],
   "source": [
    "## analysis"
   ]
  }
 ]
}