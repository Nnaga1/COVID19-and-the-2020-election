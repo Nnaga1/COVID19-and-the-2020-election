{
 "metadata": {
  "language_info": {
   "codemirror_mode": {
    "name": "ipython",
    "version": 3
   },
   "file_extension": ".py",
   "mimetype": "text/x-python",
   "name": "python",
   "nbconvert_exporter": "python",
   "pygments_lexer": "ipython3",
   "version": "3.8.5-final"
  },
  "orig_nbformat": 2,
  "kernelspec": {
   "name": "python3",
   "display_name": "Python 3.8.5 32-bit",
   "metadata": {
    "interpreter": {
     "hash": "b015de7088f44af58485d40939203db5570a1a067b0c88cb2e81ffd02db3c846"
    }
   }
  }
 },
 "nbformat": 4,
 "nbformat_minor": 2,
 "cells": [
  {
   "source": [
    "<center><div style=\"font-size: 50px\"> <b>Put Title Here</b> </center>\n",
    "<br><br><br>"
   ],
   "cell_type": "markdown",
   "metadata": {}
  },
  {
   "source": [
    "<center><div style=\"font-size: 30px\"> <b>Introduction</b> </center>\n",
    "\n",
    "The U.S. recently underwent a presidential election for the year of 2020. In one of the most highly contested and controversial elections of the nation, Joe Biden, the former Vice President under Barack Obama, defeated the incumbent president, Donald Trump. The election was surrounded in controversy, both in terms of the candidates who ran and the election outcome.\n",
    "\n",
    "Our group chose to analyze data regarding voter turnout rates for the 2020 Presidential Election, and learn a little bit more about what happened in this election. Voter turnout is the percentage of eligible voters who cast a ballot in an election. Eligibility varies by country, and the voting-eligible population should not be confused with the total adult population. Age and citizenship status are often among the criteria used to determine eligibility, but some countries further restrict eligibility based on sex, race, or religion.\n",
    "\n",
    "The right to vote is one of our hallmark rights, and every U.S. citizen should exercise this right. Our aim in analyzing this data is to share with our viewers a more comprehensive, analytical viewpoint of who voted this election. We hope to shed some light on what went right and wrong this election, and potentially expose some avenues on how we can make it easier to vote throughout the nation. We got our dataset from the website kaggle.com, the famous data science and machine learning hub, and it was provided via data.world by the government.\n",
    "\n",
    "<br><br><br><br>\n",
    "\n",
    "\n"
   ],
   "cell_type": "markdown",
   "metadata": {}
  },
  {
   "source": [
    "<center><div style=\"font-size: 30px\"> <b>Data Collection</b> </center>\n",
    "\n",
    "The first thing we need to do is obtain the election data at https://www.kaggle.com/imoore/2020-us-general-election-turnout-rates?select=2020+November+General+Election+-+Turnout+Rates.csv.  We then read it into a dataframe using pandas, which allows us to perform operations on the rows and columns of data.  There are originally 15 columns in the election data, but we will filter some out and keep the most important ones.  Additionally, it is neccessary to change the format of some columns to a numeric type, such as total ballots counted, VEP turnout rate, and % non-citizen).  "
   ],
   "cell_type": "markdown",
   "metadata": {}
  },
  {
   "cell_type": "code",
   "execution_count": 43,
   "metadata": {},
   "outputs": [
    {
     "output_type": "execute_result",
     "data": {
      "text/plain": [
       "           State                                             Source  \\\n",
       "0  United States                                                NaN   \n",
       "1        Alabama  https://www2.alabamavotes.gov/electionnight/st...   \n",
       "2         Alaska  https://www.elections.alaska.gov/results/20GEN...   \n",
       "3        Arizona       https://results.arizona.vote/#/featured/18/0   \n",
       "4       Arkansas  https://results.enr.clarityelections.com/AR/10...   \n",
       "\n",
       "  Official/Unofficial Total Ballots Counted (Estimate)  \\\n",
       "0                 NaN                      158,835,004   \n",
       "1          Unofficial                        2,306,587   \n",
       "2                 NaN                          367,000   \n",
       "3                 NaN                        3,400,000   \n",
       "4          Unofficial                        1,212,030   \n",
       "\n",
       "  Vote for Highest Office (President) VEP Turnout Rate  \\\n",
       "0                                 NaN            66.4%   \n",
       "1                           2,297,295            62.6%   \n",
       "2                                 NaN            69.8%   \n",
       "3                                 NaN            65.5%   \n",
       "4                           1,206,697            55.5%   \n",
       "\n",
       "  Voting-Eligible Population (VEP) Voting-Age Population (VAP) % Non-citizen  \\\n",
       "0                      239,247,182                 257,605,088          7.8%   \n",
       "1                        3,683,055                   3,837,540          2.3%   \n",
       "2                          525,568                     551,117          3.4%   \n",
       "3                        5,189,000                   5,798,473          8.9%   \n",
       "4                        2,182,375                   2,331,171          3.6%   \n",
       "\n",
       "      Prison  Probation   Parole Total Ineligible Felon Overseas Eligible  \\\n",
       "0  1,461,074  1,962,811  616,440              3,294,457         4,971,025   \n",
       "1     25,898     50,997   10,266                 67,782               NaN   \n",
       "2      4,293      2,074    1,348                  6,927               NaN   \n",
       "3     38,520     76,844    7,536                 93,699               NaN   \n",
       "4     17,510     36,719   24,698                 64,974               NaN   \n",
       "\n",
       "  State Abv  \n",
       "0       NaN  \n",
       "1        AL  \n",
       "2        AK  \n",
       "3        AZ  \n",
       "4        AR  "
      ],
      "text/html": "<div>\n<style scoped>\n    .dataframe tbody tr th:only-of-type {\n        vertical-align: middle;\n    }\n\n    .dataframe tbody tr th {\n        vertical-align: top;\n    }\n\n    .dataframe thead th {\n        text-align: right;\n    }\n</style>\n<table border=\"1\" class=\"dataframe\">\n  <thead>\n    <tr style=\"text-align: right;\">\n      <th></th>\n      <th>State</th>\n      <th>Source</th>\n      <th>Official/Unofficial</th>\n      <th>Total Ballots Counted (Estimate)</th>\n      <th>Vote for Highest Office (President)</th>\n      <th>VEP Turnout Rate</th>\n      <th>Voting-Eligible Population (VEP)</th>\n      <th>Voting-Age Population (VAP)</th>\n      <th>% Non-citizen</th>\n      <th>Prison</th>\n      <th>Probation</th>\n      <th>Parole</th>\n      <th>Total Ineligible Felon</th>\n      <th>Overseas Eligible</th>\n      <th>State Abv</th>\n    </tr>\n  </thead>\n  <tbody>\n    <tr>\n      <th>0</th>\n      <td>United States</td>\n      <td>NaN</td>\n      <td>NaN</td>\n      <td>158,835,004</td>\n      <td>NaN</td>\n      <td>66.4%</td>\n      <td>239,247,182</td>\n      <td>257,605,088</td>\n      <td>7.8%</td>\n      <td>1,461,074</td>\n      <td>1,962,811</td>\n      <td>616,440</td>\n      <td>3,294,457</td>\n      <td>4,971,025</td>\n      <td>NaN</td>\n    </tr>\n    <tr>\n      <th>1</th>\n      <td>Alabama</td>\n      <td>https://www2.alabamavotes.gov/electionnight/st...</td>\n      <td>Unofficial</td>\n      <td>2,306,587</td>\n      <td>2,297,295</td>\n      <td>62.6%</td>\n      <td>3,683,055</td>\n      <td>3,837,540</td>\n      <td>2.3%</td>\n      <td>25,898</td>\n      <td>50,997</td>\n      <td>10,266</td>\n      <td>67,782</td>\n      <td>NaN</td>\n      <td>AL</td>\n    </tr>\n    <tr>\n      <th>2</th>\n      <td>Alaska</td>\n      <td>https://www.elections.alaska.gov/results/20GEN...</td>\n      <td>NaN</td>\n      <td>367,000</td>\n      <td>NaN</td>\n      <td>69.8%</td>\n      <td>525,568</td>\n      <td>551,117</td>\n      <td>3.4%</td>\n      <td>4,293</td>\n      <td>2,074</td>\n      <td>1,348</td>\n      <td>6,927</td>\n      <td>NaN</td>\n      <td>AK</td>\n    </tr>\n    <tr>\n      <th>3</th>\n      <td>Arizona</td>\n      <td>https://results.arizona.vote/#/featured/18/0</td>\n      <td>NaN</td>\n      <td>3,400,000</td>\n      <td>NaN</td>\n      <td>65.5%</td>\n      <td>5,189,000</td>\n      <td>5,798,473</td>\n      <td>8.9%</td>\n      <td>38,520</td>\n      <td>76,844</td>\n      <td>7,536</td>\n      <td>93,699</td>\n      <td>NaN</td>\n      <td>AZ</td>\n    </tr>\n    <tr>\n      <th>4</th>\n      <td>Arkansas</td>\n      <td>https://results.enr.clarityelections.com/AR/10...</td>\n      <td>Unofficial</td>\n      <td>1,212,030</td>\n      <td>1,206,697</td>\n      <td>55.5%</td>\n      <td>2,182,375</td>\n      <td>2,331,171</td>\n      <td>3.6%</td>\n      <td>17,510</td>\n      <td>36,719</td>\n      <td>24,698</td>\n      <td>64,974</td>\n      <td>NaN</td>\n      <td>AR</td>\n    </tr>\n  </tbody>\n</table>\n</div>"
     },
     "metadata": {},
     "execution_count": 43
    }
   ],
   "source": [
    "## data collection\n",
    "import pandas as pd \n",
    "import numpy as np\n",
    "\n",
    "data = pd.read_csv('election_data.csv')\n",
    "electional = pd.read_csv('county_statistics.csv')\n",
    "data.head()"
   ]
  },
  {
   "source": [
    "<br><br><br><br>\n",
    "<center><div style=\"font-size: 30px\"> <b>Data Processing</b> </center>"
   ],
   "cell_type": "markdown",
   "metadata": {}
  },
  {
   "cell_type": "code",
   "execution_count": 46,
   "metadata": {},
   "outputs": [
    {
     "output_type": "execute_result",
     "data": {
      "text/plain": [
       "        State Region  Trump Votes  Biden Votes  Trump %  Biden %     cases  \\\n",
       "0     Alabama     SE    1434159.0     843473.0   43.410   22.924  193985.0   \n",
       "1      Alaska      W     148624.0     102080.0   22.411   15.939   16705.0   \n",
       "2     Arizona     SW    1651812.0    1663447.0    8.227    6.547  247473.0   \n",
       "3    Arkansas     SE     757052.0     418051.0   51.710   21.084  113057.0   \n",
       "4  California      W    5416035.0   10339137.0   25.089   31.595  935878.0   \n",
       "\n",
       "    deaths  Total Ballots Counted (Estimate)  VEP Turnout Rate  \\\n",
       "0   2973.0                           2306587              62.6   \n",
       "1     83.0                            367000              69.8   \n",
       "2   5979.0                           3400000              65.5   \n",
       "3   1958.0                           1212030              55.5   \n",
       "4  17671.0                          16800000              64.7   \n",
       "\n",
       "   Voting-Eligible Population (VEP)  Voting-Age Population (VAP)  % Citizen  \\\n",
       "0                           3683055                      3837540       97.7   \n",
       "1                            525568                       551117       96.6   \n",
       "2                           5189000                      5798473       91.1   \n",
       "3                           2182375                      2331171       96.4   \n",
       "4                          25962648                     30783255       85.0   \n",
       "\n",
       "   % Non-citizen  \n",
       "0            2.3  \n",
       "1            3.4  \n",
       "2            8.9  \n",
       "3            3.6  \n",
       "4           15.0  "
      ],
      "text/html": "<div>\n<style scoped>\n    .dataframe tbody tr th:only-of-type {\n        vertical-align: middle;\n    }\n\n    .dataframe tbody tr th {\n        vertical-align: top;\n    }\n\n    .dataframe thead th {\n        text-align: right;\n    }\n</style>\n<table border=\"1\" class=\"dataframe\">\n  <thead>\n    <tr style=\"text-align: right;\">\n      <th></th>\n      <th>State</th>\n      <th>Region</th>\n      <th>Trump Votes</th>\n      <th>Biden Votes</th>\n      <th>Trump %</th>\n      <th>Biden %</th>\n      <th>cases</th>\n      <th>deaths</th>\n      <th>Total Ballots Counted (Estimate)</th>\n      <th>VEP Turnout Rate</th>\n      <th>Voting-Eligible Population (VEP)</th>\n      <th>Voting-Age Population (VAP)</th>\n      <th>% Citizen</th>\n      <th>% Non-citizen</th>\n    </tr>\n  </thead>\n  <tbody>\n    <tr>\n      <th>0</th>\n      <td>Alabama</td>\n      <td>SE</td>\n      <td>1434159.0</td>\n      <td>843473.0</td>\n      <td>43.410</td>\n      <td>22.924</td>\n      <td>193985.0</td>\n      <td>2973.0</td>\n      <td>2306587</td>\n      <td>62.6</td>\n      <td>3683055</td>\n      <td>3837540</td>\n      <td>97.7</td>\n      <td>2.3</td>\n    </tr>\n    <tr>\n      <th>1</th>\n      <td>Alaska</td>\n      <td>W</td>\n      <td>148624.0</td>\n      <td>102080.0</td>\n      <td>22.411</td>\n      <td>15.939</td>\n      <td>16705.0</td>\n      <td>83.0</td>\n      <td>367000</td>\n      <td>69.8</td>\n      <td>525568</td>\n      <td>551117</td>\n      <td>96.6</td>\n      <td>3.4</td>\n    </tr>\n    <tr>\n      <th>2</th>\n      <td>Arizona</td>\n      <td>SW</td>\n      <td>1651812.0</td>\n      <td>1663447.0</td>\n      <td>8.227</td>\n      <td>6.547</td>\n      <td>247473.0</td>\n      <td>5979.0</td>\n      <td>3400000</td>\n      <td>65.5</td>\n      <td>5189000</td>\n      <td>5798473</td>\n      <td>91.1</td>\n      <td>8.9</td>\n    </tr>\n    <tr>\n      <th>3</th>\n      <td>Arkansas</td>\n      <td>SE</td>\n      <td>757052.0</td>\n      <td>418051.0</td>\n      <td>51.710</td>\n      <td>21.084</td>\n      <td>113057.0</td>\n      <td>1958.0</td>\n      <td>1212030</td>\n      <td>55.5</td>\n      <td>2182375</td>\n      <td>2331171</td>\n      <td>96.4</td>\n      <td>3.6</td>\n    </tr>\n    <tr>\n      <th>4</th>\n      <td>California</td>\n      <td>W</td>\n      <td>5416035.0</td>\n      <td>10339137.0</td>\n      <td>25.089</td>\n      <td>31.595</td>\n      <td>935878.0</td>\n      <td>17671.0</td>\n      <td>16800000</td>\n      <td>64.7</td>\n      <td>25962648</td>\n      <td>30783255</td>\n      <td>85.0</td>\n      <td>15.0</td>\n    </tr>\n  </tbody>\n</table>\n</div>"
     },
     "metadata": {},
     "execution_count": 46
    }
   ],
   "source": [
    "#code for data processing\n",
    "#deleting columns with NaN values\n",
    "\n",
    "import pandas as pd \n",
    "import numpy as np\n",
    "\n",
    "data = pd.read_csv('election_data.csv')\n",
    "electional = pd.read_csv('county_statistics.csv')\n",
    "#data.head()\n",
    "\n",
    "del data['Source']\n",
    "del data['Official/Unofficial']\n",
    "del data['Vote for Highest Office (President)']\n",
    "del data['Overseas Eligible']\n",
    "\n",
    "numbers = ['Total Ballots Counted (Estimate)', 'Voting-Eligible Population (VEP)', 'Voting-Age Population (VAP)','Prison', 'Probation', 'Parole', 'Total Ineligible Felon']\n",
    "\n",
    "floaters = ['VEP Turnout Rate', '% Non-citizen']\n",
    "\n",
    "#converting strings into proper number format\n",
    "for c in numbers:\n",
    "    data[c] = data[c].str.replace(',','')\n",
    "\n",
    "for c in floaters:\n",
    "    data[c] = data[c].str.replace('%','')\n",
    "\n",
    "data[numbers] = data[numbers].astype('int')\n",
    "data[floaters] = data[floaters].astype('float')\n",
    "\n",
    "#creating a column for % citizen\n",
    "data['% Citizen'] = 100 - data['% Non-citizen']\n",
    "\n",
    "#regional column\n",
    "west = ['Wyoming','Hawaii','Alaska','California','Nevada','Utah','Colorado','Washington','Oregon','Montana','Idaho']\n",
    "\n",
    "midwest = ['North Dakota','Minnesota','South Dakota','Wisconsin','Iowa','Illinois','Nebraska','Kansas','Missouri','Ohio','Indiana','Michigan']\n",
    "\n",
    "northeast = ['Maine','New York','New Jersey','New Hampshire','Massachusetts','Vermont','Rhode Island', 'Connecticut','Pennsylvania']\n",
    "\n",
    "southeast = ['Maryland','District of Columbia','Delaware','West Virginia','Virginia','Kentucky','Tennessee','North Carolina','South Carolina','Georgia','Alabama','Louisiana','Arkansas','Mississippi','Florida']\n",
    "\n",
    "southwest = ['Oklahoma','New Mexico','Arizona','Texas']\n",
    "\n",
    "data['Region'] = data.State.apply(lambda x:\n",
    "    'W' if x in west else ('MW' if x in midwest else ('NE' if x in northeast else ('SE' if x in southeast else( 'SW' if x in southwest else '--')))) ) \n",
    "\n",
    "\n",
    "#reordering columns\n",
    "data = data[['State','Region','State Abv','Total Ballots Counted (Estimate)', 'VEP Turnout Rate','Voting-Eligible Population (VEP)', 'Voting-Age Population (VAP)','% Citizen','% Non-citizen','Prison', 'Probation', 'Parole', 'Total Ineligible Felon']]\n",
    "\n",
    "def replacer(x):\n",
    "    return x.fillna(0)\n",
    "\n",
    "electional = pd.read_csv('county_statistics.csv')\n",
    "\n",
    "electional = electional[['state','percentage20_Donald_Trump',\n",
    "'percentage20_Joe_Biden','total_votes20','votes20_Donald_Trump','votes20_Joe_Biden','cases','deaths',]]\n",
    "\n",
    "##COVID CASES NOVEMBER 1st\n",
    "states = [\"AL\", \"AK\", \"AZ\", \"AR\", \"CA\", \"CO\", \"CT\", \"DC\", \"DE\", \"FL\", \"GA\", \"HI\", \"ID\", \"IL\", \"IN\", \"IA\", \"KS\", \"KY\", \"LA\", \"ME\", \"MD\", \"MA\", \"MI\", \"MN\", \"MS\", \"MO\", \"MT\", \"NE\", \"NV\", \"NH\", \"NJ\", \"NM\", \"NY\", \"NC\", \"ND\", \"OH\", \"OK\", \"OR\", \"PA\", \"RI\", \"SC\", \"SD\", \"TN\", \"TX\", \"UT\", \"VT\", \"VA\", \"WA\", \"WV\", \"WI\", \"WY\"]\n",
    "\n",
    "states_holder = []\n",
    "d = electional.loc[electional['state'] == 'SC']\n",
    "for s in states:\n",
    "    d = electional.loc[electional['state'] == s]\n",
    "    d = pd.DataFrame(d)\n",
    "    states_holder.append(d)\n",
    "\n",
    "for i in range(50):\n",
    "    states_holder[i] = replacer(states_holder[i])    \n",
    "    states_holder[i] = states_holder[i].groupby(['state'], as_index = False).sum()\n",
    "    states_holder[i] = states_holder[i].rename(columns = {'state' : 'State Abv'})\n",
    "\n",
    "electional = pd.concat(states_holder)\n",
    "del electional['state']\n",
    "\n",
    "final_data = pd.merge(electional, data, on = 'State Abv', how = 'left').dropna()\n",
    "final_data = final_data.rename(columns = {'percentage20_Donald_Trump' : 'Trump %','percentage20_Joe_Biden' : 'Biden %', 'total_votes20' : 'Total votes',\n",
    "'votes20_Donald_Trump' : 'Trump Votes', 'votes20_Joe_Biden' : 'Biden Votes'})\n",
    "\n",
    "final_data = final_data[['State','Region','Trump Votes','Biden Votes','Trump %','Biden %','cases','deaths','Total Ballots Counted (Estimate)', 'VEP Turnout Rate','Voting-Eligible Population (VEP)', 'Voting-Age Population (VAP)','% Citizen','% Non-citizen']]\n",
    "\n",
    "\n",
    "\n",
    "final_data.head()"
   ]
  },
  {
   "source": [
    "<br><br><br><br>\n",
    "<center><div style=\"font-size: 30px\"> <b>Data Analysis/Visualization</b> </center>"
   ],
   "cell_type": "markdown",
   "metadata": {}
  },
  {
   "cell_type": "code",
   "execution_count": 3,
   "metadata": {},
   "outputs": [],
   "source": [
    "#code for data analyis/visualization"
   ]
  },
  {
   "source": [
    "<br><br><br><br>\n",
    "<center><div style=\"font-size: 30px\"> <b>Hypothesis Testing/ML</b> </center>"
   ],
   "cell_type": "markdown",
   "metadata": {}
  },
  {
   "cell_type": "code",
   "execution_count": 4,
   "metadata": {},
   "outputs": [],
   "source": [
    "#code for hypothesis testing/ML"
   ]
  },
  {
   "source": [
    "<br><br><br><br>\n",
    "<center><div style=\"font-size: 30px\"> <b>Analysis</b> </center>"
   ],
   "cell_type": "markdown",
   "metadata": {}
  },
  {
   "cell_type": "code",
   "execution_count": 5,
   "metadata": {},
   "outputs": [],
   "source": [
    "#code for analysis"
   ]
  }
 ]
}