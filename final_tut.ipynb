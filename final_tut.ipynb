{
 "metadata": {
  "language_info": {
   "codemirror_mode": {
    "name": "ipython",
    "version": 3
   },
   "file_extension": ".py",
   "mimetype": "text/x-python",
   "name": "python",
   "nbconvert_exporter": "python",
   "pygments_lexer": "ipython3",
   "version": "3.8.5-final"
  },
  "orig_nbformat": 2,
  "kernelspec": {
   "name": "python3",
   "display_name": "Python 3.8.5 32-bit",
   "metadata": {
    "interpreter": {
     "hash": "b015de7088f44af58485d40939203db5570a1a067b0c88cb2e81ffd02db3c846"
    }
   }
  }
 },
 "nbformat": 4,
 "nbformat_minor": 2,
 "cells": [
  {
   "source": [
    "<center><div style=\"font-size: 50px\"> <b>Put Title Here</b> </center>\n",
    "<br><br><br>"
   ],
   "cell_type": "markdown",
   "metadata": {}
  },
  {
   "source": [
    "<center><div style=\"font-size: 30px\"> <b>Introduction</b> </center>\n",
    "\n",
    "The U.S. recently underwent a presidential election for the year of 2020. In one of the most highly contested and controversial elections of the nation, Joe Biden, the former Vice President under Barack Obama, defeated the incumbent president, Donald Trump. The election was surrounded in controversy, both in terms of the candidates who ran and the election outcome.\n",
    "\n",
    "Our group chose to analyze data regarding voter turnout rates for the 2020 Presidential Election, and learn a little bit more about what happened in this election. Voter turnout is the percentage of eligible voters who cast a ballot in an election. Eligibility varies by country, and the voting-eligible population should not be confused with the total adult population. Age and citizenship status are often among the criteria used to determine eligibility, but some countries further restrict eligibility based on sex, race, or religion.\n",
    "\n",
    "The right to vote is one of our hallmark rights, and every U.S. citizen should exercise this right. Our aim in analyzing this data is to share with our viewers a more comprehensive, analytical viewpoint of who voted this election. We hope to shed some light on what went right and wrong this election, and potentially expose some avenues on how we can make it easier to vote throughout the nation. We got our dataset from the website kaggle.com, the famous data science and machine learning hub, and it was provided via data.world by the government.\n",
    "\n",
    "<br><br><br><br>\n",
    "\n",
    "\n"
   ],
   "cell_type": "markdown",
   "metadata": {}
  },
  {
   "source": [
    "<center><div style=\"font-size: 30px\"> <b>Data Collection</b> </center>\n",
    "\n",
    "The first thing we need to do is obtain the election data at https://www.kaggle.com/imoore/2020-us-general-election-turnout-rates?select=2020+November+General+Election+-+Turnout+Rates.csv.  We then read it into a dataframe using pandas, which allows us to perform operations on the rows and columns of data.  There are originally 15 columns in the election data, but we will filter some out and keep the most important ones.  Additionally, it is neccessary to change the format of some columns to a numeric type, such as total ballots counted, VEP turnout rate, and % non-citizen).  "
   ],
   "cell_type": "markdown",
   "metadata": {}
  },
  {
   "cell_type": "code",
   "execution_count": 30,
   "metadata": {},
   "outputs": [
    {
     "output_type": "execute_result",
     "data": {
      "text/plain": [
       "           State Region State Abv  Total Ballots Counted (Estimate)  \\\n",
       "0  United States     --       NaN                         158835004   \n",
       "1        Alabama     SE        AL                           2306587   \n",
       "2         Alaska      W        AK                            367000   \n",
       "3        Arizona     SW        AZ                           3400000   \n",
       "4       Arkansas     SE        AR                           1212030   \n",
       "\n",
       "   VEP Turnout Rate  Voting-Eligible Population (VEP)  \\\n",
       "0              66.4                         239247182   \n",
       "1              62.6                           3683055   \n",
       "2              69.8                            525568   \n",
       "3              65.5                           5189000   \n",
       "4              55.5                           2182375   \n",
       "\n",
       "   Voting-Age Population (VAP)  % Citizen  % Non-citizen   Prison  Probation  \\\n",
       "0                    257605088       92.2            7.8  1461074    1962811   \n",
       "1                      3837540       97.7            2.3    25898      50997   \n",
       "2                       551117       96.6            3.4     4293       2074   \n",
       "3                      5798473       91.1            8.9    38520      76844   \n",
       "4                      2331171       96.4            3.6    17510      36719   \n",
       "\n",
       "   Parole  Total Ineligible Felon  \n",
       "0  616440                 3294457  \n",
       "1   10266                   67782  \n",
       "2    1348                    6927  \n",
       "3    7536                   93699  \n",
       "4   24698                   64974  "
      ],
      "text/html": "<div>\n<style scoped>\n    .dataframe tbody tr th:only-of-type {\n        vertical-align: middle;\n    }\n\n    .dataframe tbody tr th {\n        vertical-align: top;\n    }\n\n    .dataframe thead th {\n        text-align: right;\n    }\n</style>\n<table border=\"1\" class=\"dataframe\">\n  <thead>\n    <tr style=\"text-align: right;\">\n      <th></th>\n      <th>State</th>\n      <th>Region</th>\n      <th>State Abv</th>\n      <th>Total Ballots Counted (Estimate)</th>\n      <th>VEP Turnout Rate</th>\n      <th>Voting-Eligible Population (VEP)</th>\n      <th>Voting-Age Population (VAP)</th>\n      <th>% Citizen</th>\n      <th>% Non-citizen</th>\n      <th>Prison</th>\n      <th>Probation</th>\n      <th>Parole</th>\n      <th>Total Ineligible Felon</th>\n    </tr>\n  </thead>\n  <tbody>\n    <tr>\n      <th>0</th>\n      <td>United States</td>\n      <td>--</td>\n      <td>NaN</td>\n      <td>158835004</td>\n      <td>66.4</td>\n      <td>239247182</td>\n      <td>257605088</td>\n      <td>92.2</td>\n      <td>7.8</td>\n      <td>1461074</td>\n      <td>1962811</td>\n      <td>616440</td>\n      <td>3294457</td>\n    </tr>\n    <tr>\n      <th>1</th>\n      <td>Alabama</td>\n      <td>SE</td>\n      <td>AL</td>\n      <td>2306587</td>\n      <td>62.6</td>\n      <td>3683055</td>\n      <td>3837540</td>\n      <td>97.7</td>\n      <td>2.3</td>\n      <td>25898</td>\n      <td>50997</td>\n      <td>10266</td>\n      <td>67782</td>\n    </tr>\n    <tr>\n      <th>2</th>\n      <td>Alaska</td>\n      <td>W</td>\n      <td>AK</td>\n      <td>367000</td>\n      <td>69.8</td>\n      <td>525568</td>\n      <td>551117</td>\n      <td>96.6</td>\n      <td>3.4</td>\n      <td>4293</td>\n      <td>2074</td>\n      <td>1348</td>\n      <td>6927</td>\n    </tr>\n    <tr>\n      <th>3</th>\n      <td>Arizona</td>\n      <td>SW</td>\n      <td>AZ</td>\n      <td>3400000</td>\n      <td>65.5</td>\n      <td>5189000</td>\n      <td>5798473</td>\n      <td>91.1</td>\n      <td>8.9</td>\n      <td>38520</td>\n      <td>76844</td>\n      <td>7536</td>\n      <td>93699</td>\n    </tr>\n    <tr>\n      <th>4</th>\n      <td>Arkansas</td>\n      <td>SE</td>\n      <td>AR</td>\n      <td>1212030</td>\n      <td>55.5</td>\n      <td>2182375</td>\n      <td>2331171</td>\n      <td>96.4</td>\n      <td>3.6</td>\n      <td>17510</td>\n      <td>36719</td>\n      <td>24698</td>\n      <td>64974</td>\n    </tr>\n  </tbody>\n</table>\n</div>"
     },
     "metadata": {},
     "execution_count": 30
    }
   ],
   "source": [
    "## data collection\n",
    "import pandas as pd \n",
    "import numpy as np\n",
    "\n",
    "data = pd.read_csv('election_data.csv')\n",
    "\n",
    "#deleting columns with NaN values\n",
    "\n",
    "del data['Source']\n",
    "del data['Official/Unofficial']\n",
    "del data['Vote for Highest Office (President)']\n",
    "del data['Overseas Eligible']\n",
    "\n",
    "numbers = ['Total Ballots Counted (Estimate)', 'Voting-Eligible Population (VEP)', 'Voting-Age Population (VAP)','Prison', 'Probation', 'Parole', 'Total Ineligible Felon']\n",
    "\n",
    "floaters = ['VEP Turnout Rate', '% Non-citizen']\n",
    "\n",
    "#converting strings into proper number format\n",
    "for c in numbers:\n",
    "    data[c] = data[c].str.replace(',','')\n",
    "\n",
    "for c in floaters:\n",
    "    data[c] = data[c].str.replace('%','')\n",
    "\n",
    "data[numbers] = data[numbers].astype('int')\n",
    "data[floaters] = data[floaters].astype('float')\n",
    "\n",
    "#creating a column for % citizen\n",
    "data['% Citizen'] = 100 - data['% Non-citizen']\n",
    "\n",
    "#regional column\n",
    "west = ['Wyoming','Hawaii','Alaska','California','Nevada','Utah','Colorado','Washington','Oregon','Montana','Idaho']\n",
    "\n",
    "midwest = ['North Dakota','Minnesota','South Dakota','Wisconsin','Iowa','Illinois','Nebraska','Kansas','Missouri','Ohio','Indiana','Michigan']\n",
    "\n",
    "northeast = ['Maine','New York','New Jersey','New Hampshire','Massachusetts','Vermont','Rhode Island', 'Connecticut','Pennsylvania']\n",
    "\n",
    "southeast = ['Maryland','District of Columbia','Delaware','West Virginia','Virginia','Kentucky','Tennessee','North Carolina','South Carolina','Georgia','Alabama','Louisiana','Arkansas','Mississippi','Florida']\n",
    "\n",
    "southwest = ['Oklahoma','New Mexico','Arizona','Texas']\n",
    "\n",
    "data['Region'] = data.State.apply(lambda x:\n",
    "    'W' if x in west else ('MW' if x in midwest else ('NE' if x in northeast else ('SE' if x in southeast else( 'SW' if x in southwest else '--')))) ) \n",
    "\n",
    "\n",
    "#reordering columns\n",
    "data = data[['State','Region','State Abv','Total Ballots Counted (Estimate)', 'VEP Turnout Rate','Voting-Eligible Population (VEP)', 'Voting-Age Population (VAP)','% Citizen','% Non-citizen','Prison', 'Probation', 'Parole', 'Total Ineligible Felon']]\n",
    "\n",
    "\n",
    "data.head()"
   ]
  },
  {
   "source": [
    "<br><br><br><br>\n",
    "<center><div style=\"font-size: 30px\"> <b>Data Processing</b> </center>"
   ],
   "cell_type": "markdown",
   "metadata": {}
  },
  {
   "cell_type": "code",
   "execution_count": 38,
   "metadata": {},
   "outputs": [
    {
     "output_type": "execute_result",
     "data": {
      "text/plain": [
       "  State Abv  percentage20_Donald_Trump  percentage20_Joe_Biden  total_votes20  \\\n",
       "0        AL                     43.410                  22.924      2309900.0   \n",
       "1        AK                     22.411                  15.939       260983.0   \n",
       "2        AZ                      8.227                   6.547      3366867.0   \n",
       "3        AR                     51.710                  21.084      1209372.0   \n",
       "4        CA                     25.089                  31.595     16092730.0   \n",
       "\n",
       "   votes20_Donald_Trump  votes20_Joe_Biden     cases   deaths       State  \\\n",
       "0             1434159.0           843473.0  193985.0   2973.0     Alabama   \n",
       "1              148624.0           102080.0   16705.0     83.0      Alaska   \n",
       "2             1651812.0          1663447.0  247473.0   5979.0     Arizona   \n",
       "3              757052.0           418051.0  113057.0   1958.0    Arkansas   \n",
       "4             5416035.0         10339137.0  935878.0  17671.0  California   \n",
       "\n",
       "  Region  Total Ballots Counted (Estimate)  VEP Turnout Rate  \\\n",
       "0     SE                           2306587              62.6   \n",
       "1      W                            367000              69.8   \n",
       "2     SW                           3400000              65.5   \n",
       "3     SE                           1212030              55.5   \n",
       "4      W                          16800000              64.7   \n",
       "\n",
       "   Voting-Eligible Population (VEP)  Voting-Age Population (VAP)  % Citizen  \\\n",
       "0                           3683055                      3837540       97.7   \n",
       "1                            525568                       551117       96.6   \n",
       "2                           5189000                      5798473       91.1   \n",
       "3                           2182375                      2331171       96.4   \n",
       "4                          25962648                     30783255       85.0   \n",
       "\n",
       "   % Non-citizen  Prison  Probation  Parole  Total Ineligible Felon  \n",
       "0            2.3   25898      50997   10266                   67782  \n",
       "1            3.4    4293       2074    1348                    6927  \n",
       "2            8.9   38520      76844    7536                   93699  \n",
       "3            3.6   17510      36719   24698                   64974  \n",
       "4           15.0  104730          0  102586                  207316  "
      ],
      "text/html": "<div>\n<style scoped>\n    .dataframe tbody tr th:only-of-type {\n        vertical-align: middle;\n    }\n\n    .dataframe tbody tr th {\n        vertical-align: top;\n    }\n\n    .dataframe thead th {\n        text-align: right;\n    }\n</style>\n<table border=\"1\" class=\"dataframe\">\n  <thead>\n    <tr style=\"text-align: right;\">\n      <th></th>\n      <th>State Abv</th>\n      <th>percentage20_Donald_Trump</th>\n      <th>percentage20_Joe_Biden</th>\n      <th>total_votes20</th>\n      <th>votes20_Donald_Trump</th>\n      <th>votes20_Joe_Biden</th>\n      <th>cases</th>\n      <th>deaths</th>\n      <th>State</th>\n      <th>Region</th>\n      <th>Total Ballots Counted (Estimate)</th>\n      <th>VEP Turnout Rate</th>\n      <th>Voting-Eligible Population (VEP)</th>\n      <th>Voting-Age Population (VAP)</th>\n      <th>% Citizen</th>\n      <th>% Non-citizen</th>\n      <th>Prison</th>\n      <th>Probation</th>\n      <th>Parole</th>\n      <th>Total Ineligible Felon</th>\n    </tr>\n  </thead>\n  <tbody>\n    <tr>\n      <th>0</th>\n      <td>AL</td>\n      <td>43.410</td>\n      <td>22.924</td>\n      <td>2309900.0</td>\n      <td>1434159.0</td>\n      <td>843473.0</td>\n      <td>193985.0</td>\n      <td>2973.0</td>\n      <td>Alabama</td>\n      <td>SE</td>\n      <td>2306587</td>\n      <td>62.6</td>\n      <td>3683055</td>\n      <td>3837540</td>\n      <td>97.7</td>\n      <td>2.3</td>\n      <td>25898</td>\n      <td>50997</td>\n      <td>10266</td>\n      <td>67782</td>\n    </tr>\n    <tr>\n      <th>1</th>\n      <td>AK</td>\n      <td>22.411</td>\n      <td>15.939</td>\n      <td>260983.0</td>\n      <td>148624.0</td>\n      <td>102080.0</td>\n      <td>16705.0</td>\n      <td>83.0</td>\n      <td>Alaska</td>\n      <td>W</td>\n      <td>367000</td>\n      <td>69.8</td>\n      <td>525568</td>\n      <td>551117</td>\n      <td>96.6</td>\n      <td>3.4</td>\n      <td>4293</td>\n      <td>2074</td>\n      <td>1348</td>\n      <td>6927</td>\n    </tr>\n    <tr>\n      <th>2</th>\n      <td>AZ</td>\n      <td>8.227</td>\n      <td>6.547</td>\n      <td>3366867.0</td>\n      <td>1651812.0</td>\n      <td>1663447.0</td>\n      <td>247473.0</td>\n      <td>5979.0</td>\n      <td>Arizona</td>\n      <td>SW</td>\n      <td>3400000</td>\n      <td>65.5</td>\n      <td>5189000</td>\n      <td>5798473</td>\n      <td>91.1</td>\n      <td>8.9</td>\n      <td>38520</td>\n      <td>76844</td>\n      <td>7536</td>\n      <td>93699</td>\n    </tr>\n    <tr>\n      <th>3</th>\n      <td>AR</td>\n      <td>51.710</td>\n      <td>21.084</td>\n      <td>1209372.0</td>\n      <td>757052.0</td>\n      <td>418051.0</td>\n      <td>113057.0</td>\n      <td>1958.0</td>\n      <td>Arkansas</td>\n      <td>SE</td>\n      <td>1212030</td>\n      <td>55.5</td>\n      <td>2182375</td>\n      <td>2331171</td>\n      <td>96.4</td>\n      <td>3.6</td>\n      <td>17510</td>\n      <td>36719</td>\n      <td>24698</td>\n      <td>64974</td>\n    </tr>\n    <tr>\n      <th>4</th>\n      <td>CA</td>\n      <td>25.089</td>\n      <td>31.595</td>\n      <td>16092730.0</td>\n      <td>5416035.0</td>\n      <td>10339137.0</td>\n      <td>935878.0</td>\n      <td>17671.0</td>\n      <td>California</td>\n      <td>W</td>\n      <td>16800000</td>\n      <td>64.7</td>\n      <td>25962648</td>\n      <td>30783255</td>\n      <td>85.0</td>\n      <td>15.0</td>\n      <td>104730</td>\n      <td>0</td>\n      <td>102586</td>\n      <td>207316</td>\n    </tr>\n  </tbody>\n</table>\n</div>"
     },
     "metadata": {},
     "execution_count": 38
    }
   ],
   "source": [
    "#code for data processing\n",
    "import pandas as pd\n",
    "import numpy as np\n",
    "\n",
    "def replacer(x):\n",
    "    return x.fillna(0)\n",
    "\n",
    "electional = pd.read_csv('county_statistics.csv')\n",
    "\n",
    "electional = electional[['state','percentage20_Donald_Trump',\n",
    "'percentage20_Joe_Biden','total_votes20','votes20_Donald_Trump','votes20_Joe_Biden','cases','deaths',]]\n",
    "\n",
    "##COVID CASES NOVEMBER 1st\n",
    "states = [\"AL\", \"AK\", \"AZ\", \"AR\", \"CA\", \"CO\", \"CT\", \"DC\", \"DE\", \"FL\", \"GA\", \"HI\", \"ID\", \"IL\", \"IN\", \"IA\", \"KS\", \"KY\", \"LA\", \"ME\", \"MD\", \"MA\", \"MI\", \"MN\", \"MS\", \"MO\", \"MT\", \"NE\", \"NV\", \"NH\", \"NJ\", \"NM\", \"NY\", \"NC\", \"ND\", \"OH\", \"OK\", \"OR\", \"PA\", \"RI\", \"SC\", \"SD\", \"TN\", \"TX\", \"UT\", \"VT\", \"VA\", \"WA\", \"WV\", \"WI\", \"WY\"]\n",
    "\n",
    "states_holder = []\n",
    "d = electional.loc[electional['state'] == 'SC']\n",
    "for s in states:\n",
    "    d = electional.loc[electional['state'] == s]\n",
    "    d = pd.DataFrame(d)\n",
    "    states_holder.append(d)\n",
    "\n",
    "for i in range(50):\n",
    "    states_holder[i] = replacer(states_holder[i])    \n",
    "    states_holder[i] = states_holder[i].groupby(['state'], as_index = False).sum()\n",
    "    states_holder[i] = states_holder[i].rename(columns = {'state' : 'State Abv'})\n",
    "\n",
    "electional = pd.concat(states_holder)\n",
    "del electional['state']\n",
    "\n",
    "final_data = pd.merge(electional, data, on = 'State Abv', how = 'left').dropna()\n",
    "\n",
    "final_data.head()"
   ]
  },
  {
   "source": [
    "<br><br><br><br>\n",
    "<center><div style=\"font-size: 30px\"> <b>Data Analysis/Visualization</b> </center>"
   ],
   "cell_type": "markdown",
   "metadata": {}
  },
  {
   "cell_type": "code",
   "execution_count": 3,
   "metadata": {},
   "outputs": [],
   "source": [
    "#code for data analyis/visualization"
   ]
  },
  {
   "source": [
    "<br><br><br><br>\n",
    "<center><div style=\"font-size: 30px\"> <b>Hypothesis Testing/ML</b> </center>"
   ],
   "cell_type": "markdown",
   "metadata": {}
  },
  {
   "cell_type": "code",
   "execution_count": 4,
   "metadata": {},
   "outputs": [],
   "source": [
    "#code for hypothesis testing/ML"
   ]
  },
  {
   "source": [
    "<br><br><br><br>\n",
    "<center><div style=\"font-size: 30px\"> <b>Analysis</b> </center>"
   ],
   "cell_type": "markdown",
   "metadata": {}
  },
  {
   "cell_type": "code",
   "execution_count": 5,
   "metadata": {},
   "outputs": [],
   "source": [
    "#code for analysis"
   ]
  }
 ]
}