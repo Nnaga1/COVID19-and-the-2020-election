{
 "metadata": {
  "language_info": {
   "codemirror_mode": {
    "name": "ipython",
    "version": 3
   },
   "file_extension": ".py",
   "mimetype": "text/x-python",
   "name": "python",
   "nbconvert_exporter": "python",
   "pygments_lexer": "ipython3",
   "version": "3.8.5-final"
  },
  "orig_nbformat": 2,
  "kernelspec": {
   "name": "python3",
   "display_name": "Python 3.8.5 64-bit",
   "metadata": {
    "interpreter": {
     "hash": "5d6e53b6a9d3962c0917d232f361c65472c03b6615be7d5a07dbd2c4f1728a0d"
    }
   }
  }
 },
 "nbformat": 4,
 "nbformat_minor": 2,
 "cells": [
  {
   "source": [
    "<center><div style=\"font-size: 50px\"> <b>Put Title Here</b> </center>\n",
    "<br><br><br>"
   ],
   "cell_type": "markdown",
   "metadata": {}
  },
  {
   "source": [
    "<center><div style=\"font-size: 30px\"> <b>Introduction</b> </center>\n",
    "\n",
    "Someone write an introduction at this location, just use text.\n",
    "\n",
    "<br><br><br><br>\n",
    "\n",
    "\n"
   ],
   "cell_type": "markdown",
   "metadata": {}
  },
  {
   "source": [
    "<center><div style=\"font-size: 30px\"> <b>Data Collection</b> </center>"
   ],
   "cell_type": "markdown",
   "metadata": {}
  },
  {
   "cell_type": "code",
   "execution_count": 1,
   "metadata": {},
   "outputs": [
    {
     "output_type": "execute_result",
     "data": {
      "text/plain": [
       "                   State Total Ballots Counted (Estimate) VEP Turnout Rate  \\\n",
       "0          United States                      158,835,004            66.4%   \n",
       "1                Alabama                        2,306,587            62.6%   \n",
       "2                 Alaska                          367,000            69.8%   \n",
       "3                Arizona                        3,400,000            65.5%   \n",
       "4               Arkansas                        1,212,030            55.5%   \n",
       "5             California                       16,800,000            64.7%   \n",
       "6               Colorado                        3,295,000            76.4%   \n",
       "7            Connecticut                        1,850,000            71.1%   \n",
       "8               Delaware                          507,805            70.5%   \n",
       "9   District of Columbia                          350,000            64.7%   \n",
       "10               Florida                       11,150,000            71.7%   \n",
       "11               Georgia                        5,025,000            68.1%   \n",
       "12                Hawaii                          579,165            57.5%   \n",
       "13                 Idaho                          875,000            67.7%   \n",
       "14              Illinois                        6,100,000            67.6%   \n",
       "15               Indiana                        3,070,000            61.4%   \n",
       "16                  Iowa                        1,825,000            78.6%   \n",
       "17                Kansas                        1,340,000            64.2%   \n",
       "18              Kentucky                        2,150,951            64.9%   \n",
       "19             Louisiana                        2,155,000            63.9%   \n",
       "20                 Maine                          860,000            79.2%   \n",
       "21              Maryland                        3,050,000            70.7%   \n",
       "22         Massachusetts                        3,725,000            73.4%   \n",
       "23              Michigan                        5,559,186            73.6%   \n",
       "24             Minnesota                        3,290,000            79.9%   \n",
       "25           Mississippi                        1,330,000            60.4%   \n",
       "26              Missouri                        3,050,000            66.3%   \n",
       "27               Montana                          612,055            73.1%   \n",
       "28              Nebraska                          948,852            68.6%   \n",
       "29                Nevada                        1,370,000            63.6%   \n",
       "30         New Hampshire                          814,092            75.4%   \n",
       "31            New Jersey                        4,495,000            73.0%   \n",
       "32            New Mexico                          923,612            61.0%   \n",
       "33              New York                        8,930,000            65.3%   \n",
       "34        North Carolina                        5,600,000            72.2%   \n",
       "35          North Dakota                          365,000            64.6%   \n",
       "36                  Ohio                        6,100,000            68.9%   \n",
       "37              Oklahoma                        1,565,000            55.0%   \n",
       "38                Oregon                        2,404,642            75.2%   \n",
       "39          Pennsylvania                        6,900,000            70.5%   \n",
       "40          Rhode Island                          520,000            65.0%   \n",
       "41        South Carolina                        2,532,995            64.5%   \n",
       "42          South Dakota                          427,529            66.0%   \n",
       "43             Tennessee                        3,060,000            59.7%   \n",
       "44                 Texas                       11,300,000            60.2%   \n",
       "45                  Utah                        1,450,000            66.2%   \n",
       "46               Vermont                          370,000            74.0%   \n",
       "47              Virginia                        4,425,000            71.4%   \n",
       "48            Washington                        4,100,000            75.4%   \n",
       "49         West Virginia                          795,000            57.0%   \n",
       "50             Wisconsin                        3,325,000            76.1%   \n",
       "51               Wyoming                          278,503            64.6%   \n",
       "\n",
       "   Voting-Eligible Population (VEP) Voting-Age Population (VAP) % Non-citizen  \\\n",
       "0                       239,247,182                 257,605,088          7.8%   \n",
       "1                         3,683,055                   3,837,540          2.3%   \n",
       "2                           525,568                     551,117          3.4%   \n",
       "3                         5,189,000                   5,798,473          8.9%   \n",
       "4                         2,182,375                   2,331,171          3.6%   \n",
       "5                        25,962,648                  30,783,255         15.0%   \n",
       "6                         4,313,054                   4,595,504          5.7%   \n",
       "7                         2,603,327                   2,839,560          7.7%   \n",
       "8                           720,531                     780,822          5.8%   \n",
       "9                           540,685                     582,065          7.1%   \n",
       "10                       15,551,739                  17,543,341         10.1%   \n",
       "11                        7,383,562                   8,255,108          6.6%   \n",
       "12                        1,007,920                   1,114,466          9.1%   \n",
       "13                        1,292,701                   1,384,683          4.1%   \n",
       "14                        9,027,082                   9,832,749          7.8%   \n",
       "15                        5,000,007                   5,214,546          3.6%   \n",
       "16                        2,321,131                   2,439,743          3.5%   \n",
       "17                        2,087,946                   2,223,238          4.9%   \n",
       "18                        3,312,250                   3,479,257          2.8%   \n",
       "19                        3,373,932                   3,557,594          2.8%   \n",
       "20                        1,085,285                   1,104,489          1.7%   \n",
       "21                        4,313,416                   4,729,400          8.4%   \n",
       "22                        5,072,901                   5,566,452          8.7%   \n",
       "23                        7,550,147                   7,870,864          3.6%   \n",
       "24                        4,118,462                   4,378,737          4.1%   \n",
       "25                        2,201,950                   2,279,412          1.4%   \n",
       "26                        4,603,060                   4,794,796          2.4%   \n",
       "27                          837,298                     851,663          1.2%   \n",
       "28                        1,383,551                   1,469,878          4.8%   \n",
       "29                        2,153,915                   2,450,946         11.6%   \n",
       "30                        1,079,434                   1,115,916          3.0%   \n",
       "31                        6,158,999                   6,952,008         11.1%   \n",
       "32                        1,515,355                   1,634,037          6.2%   \n",
       "33                       13,670,596                  15,372,655         10.5%   \n",
       "34                        7,759,051                   8,328,642          5.7%   \n",
       "35                          565,143                     584,610          3.0%   \n",
       "36                        8,859,167                   9,144,626          2.6%   \n",
       "37                        2,845,835                   3,031,792          4.3%   \n",
       "38                        3,196,425                   3,405,863          5.7%   \n",
       "39                        9,781,976                  10,186,170          3.5%   \n",
       "40                          799,642                     857,507          6.4%   \n",
       "41                        3,926,305                   4,116,633          3.6%   \n",
       "42                          648,104                     675,016          2.4%   \n",
       "43                        5,124,867                   5,391,220          3.6%   \n",
       "44                       18,784,280                  22,058,260         12.6%   \n",
       "45                        2,191,487                   2,343,384          6.2%   \n",
       "46                          499,884                     511,637          2.3%   \n",
       "47                        6,196,071                   6,727,440          6.8%   \n",
       "48                        5,437,844                   6,070,046          9.1%   \n",
       "49                        1,394,028                   1,422,098          0.9%   \n",
       "50                        4,368,530                   4,586,746          3.2%   \n",
       "51                          431,364                     447,915          2.2%   \n",
       "\n",
       "       Prison  Probation   Parole Total Ineligible Felon State Abv  \n",
       "0   1,461,074  1,962,811  616,440              3,294,457       NaN  \n",
       "1      25,898     50,997   10,266                 67,782        AL  \n",
       "2       4,293      2,074    1,348                  6,927        AK  \n",
       "3      38,520     76,844    7,536                 93,699        AZ  \n",
       "4      17,510     36,719   24,698                 64,974        AR  \n",
       "5     104,730          0  102,586                207,316        CA  \n",
       "6      18,905          0        0                 18,905        CO  \n",
       "7      13,268          0    4,452                 17,720        CT  \n",
       "8       5,874     14,176      350                 15,013        DE  \n",
       "9           0          0        0                      0        DC  \n",
       "10     91,674    205,033    4,345                223,139        FL  \n",
       "11     50,930    416,771   20,426                329,754        GA  \n",
       "12      5,007          0        0                  5,007        HI  \n",
       "13      8,378     34,392    5,267                 34,968        ID  \n",
       "14     38,464          0        0                 38,464        IL  \n",
       "15     26,302          0        0                 26,302        IN  \n",
       "16      9,216     29,137    6,652                 33,933        IA  \n",
       "17      9,882     16,455    5,438                 25,522        KS  \n",
       "18     23,280     46,967   15,881                 68,281        KY  \n",
       "19     32,267     35,025   29,321                 83,304        LA  \n",
       "20          0          0        0                      0        ME  \n",
       "21     18,165          0        0                 18,165        MD  \n",
       "22      7,772          0        0                  7,772        MA  \n",
       "23     38,183          0        0                 38,183        MI  \n",
       "24      9,712    100,076    7,381                 79,140        MN  \n",
       "25     19,244     27,294    9,866                 46,032        MS  \n",
       "26     30,148     43,871   19,251                 76,599        MO  \n",
       "27      3,754          0        0                  3,754        MT  \n",
       "28      5,263     14,894      958                 15,455        NE  \n",
       "29     12,399          0        0                 12,399        NV  \n",
       "30      2,635          0        0                  2,635        NH  \n",
       "31     18,099          0        0                 18,099        NJ  \n",
       "32      6,887     12,090    2,805                 17,188        NM  \n",
       "33     42,408          0   45,192                 87,600        NY  \n",
       "34     33,640     80,068   14,215                 97,497        NC  \n",
       "35      1,679          0        0                  1,679        ND  \n",
       "36     49,892          0        0                 49,892        OH  \n",
       "37     27,558     41,562    1,780                 55,106        OK  \n",
       "38     13,795          0        0                 13,795        OR  \n",
       "39     44,148          0        0                 44,148        PA  \n",
       "40      2,766          0        0                  2,766        RI  \n",
       "41     18,587     31,975    4,980                 43,392        SC  \n",
       "42      3,867      5,989    3,201                 10,781        SD  \n",
       "43     26,107     61,253   10,842                 74,926        TN  \n",
       "44    154,913    368,167  109,213                492,390        TX  \n",
       "45      6,287          0        0                  6,287        UT  \n",
       "46          0          0        0                      0        VT  \n",
       "47     35,743     63,111    1,860                 76,732        VA  \n",
       "48     18,777     76,672   12,222                 78,536        WA  \n",
       "49      6,757      6,593    4,287                 15,132        WV  \n",
       "50     23,574     42,909   21,015                 71,193        WI  \n",
       "51      2,488      5,383      934                  6,759        WY  "
      ],
      "text/html": "<div>\n<style scoped>\n    .dataframe tbody tr th:only-of-type {\n        vertical-align: middle;\n    }\n\n    .dataframe tbody tr th {\n        vertical-align: top;\n    }\n\n    .dataframe thead th {\n        text-align: right;\n    }\n</style>\n<table border=\"1\" class=\"dataframe\">\n  <thead>\n    <tr style=\"text-align: right;\">\n      <th></th>\n      <th>State</th>\n      <th>Total Ballots Counted (Estimate)</th>\n      <th>VEP Turnout Rate</th>\n      <th>Voting-Eligible Population (VEP)</th>\n      <th>Voting-Age Population (VAP)</th>\n      <th>% Non-citizen</th>\n      <th>Prison</th>\n      <th>Probation</th>\n      <th>Parole</th>\n      <th>Total Ineligible Felon</th>\n      <th>State Abv</th>\n    </tr>\n  </thead>\n  <tbody>\n    <tr>\n      <th>0</th>\n      <td>United States</td>\n      <td>158,835,004</td>\n      <td>66.4%</td>\n      <td>239,247,182</td>\n      <td>257,605,088</td>\n      <td>7.8%</td>\n      <td>1,461,074</td>\n      <td>1,962,811</td>\n      <td>616,440</td>\n      <td>3,294,457</td>\n      <td>NaN</td>\n    </tr>\n    <tr>\n      <th>1</th>\n      <td>Alabama</td>\n      <td>2,306,587</td>\n      <td>62.6%</td>\n      <td>3,683,055</td>\n      <td>3,837,540</td>\n      <td>2.3%</td>\n      <td>25,898</td>\n      <td>50,997</td>\n      <td>10,266</td>\n      <td>67,782</td>\n      <td>AL</td>\n    </tr>\n    <tr>\n      <th>2</th>\n      <td>Alaska</td>\n      <td>367,000</td>\n      <td>69.8%</td>\n      <td>525,568</td>\n      <td>551,117</td>\n      <td>3.4%</td>\n      <td>4,293</td>\n      <td>2,074</td>\n      <td>1,348</td>\n      <td>6,927</td>\n      <td>AK</td>\n    </tr>\n    <tr>\n      <th>3</th>\n      <td>Arizona</td>\n      <td>3,400,000</td>\n      <td>65.5%</td>\n      <td>5,189,000</td>\n      <td>5,798,473</td>\n      <td>8.9%</td>\n      <td>38,520</td>\n      <td>76,844</td>\n      <td>7,536</td>\n      <td>93,699</td>\n      <td>AZ</td>\n    </tr>\n    <tr>\n      <th>4</th>\n      <td>Arkansas</td>\n      <td>1,212,030</td>\n      <td>55.5%</td>\n      <td>2,182,375</td>\n      <td>2,331,171</td>\n      <td>3.6%</td>\n      <td>17,510</td>\n      <td>36,719</td>\n      <td>24,698</td>\n      <td>64,974</td>\n      <td>AR</td>\n    </tr>\n    <tr>\n      <th>5</th>\n      <td>California</td>\n      <td>16,800,000</td>\n      <td>64.7%</td>\n      <td>25,962,648</td>\n      <td>30,783,255</td>\n      <td>15.0%</td>\n      <td>104,730</td>\n      <td>0</td>\n      <td>102,586</td>\n      <td>207,316</td>\n      <td>CA</td>\n    </tr>\n    <tr>\n      <th>6</th>\n      <td>Colorado</td>\n      <td>3,295,000</td>\n      <td>76.4%</td>\n      <td>4,313,054</td>\n      <td>4,595,504</td>\n      <td>5.7%</td>\n      <td>18,905</td>\n      <td>0</td>\n      <td>0</td>\n      <td>18,905</td>\n      <td>CO</td>\n    </tr>\n    <tr>\n      <th>7</th>\n      <td>Connecticut</td>\n      <td>1,850,000</td>\n      <td>71.1%</td>\n      <td>2,603,327</td>\n      <td>2,839,560</td>\n      <td>7.7%</td>\n      <td>13,268</td>\n      <td>0</td>\n      <td>4,452</td>\n      <td>17,720</td>\n      <td>CT</td>\n    </tr>\n    <tr>\n      <th>8</th>\n      <td>Delaware</td>\n      <td>507,805</td>\n      <td>70.5%</td>\n      <td>720,531</td>\n      <td>780,822</td>\n      <td>5.8%</td>\n      <td>5,874</td>\n      <td>14,176</td>\n      <td>350</td>\n      <td>15,013</td>\n      <td>DE</td>\n    </tr>\n    <tr>\n      <th>9</th>\n      <td>District of Columbia</td>\n      <td>350,000</td>\n      <td>64.7%</td>\n      <td>540,685</td>\n      <td>582,065</td>\n      <td>7.1%</td>\n      <td>0</td>\n      <td>0</td>\n      <td>0</td>\n      <td>0</td>\n      <td>DC</td>\n    </tr>\n    <tr>\n      <th>10</th>\n      <td>Florida</td>\n      <td>11,150,000</td>\n      <td>71.7%</td>\n      <td>15,551,739</td>\n      <td>17,543,341</td>\n      <td>10.1%</td>\n      <td>91,674</td>\n      <td>205,033</td>\n      <td>4,345</td>\n      <td>223,139</td>\n      <td>FL</td>\n    </tr>\n    <tr>\n      <th>11</th>\n      <td>Georgia</td>\n      <td>5,025,000</td>\n      <td>68.1%</td>\n      <td>7,383,562</td>\n      <td>8,255,108</td>\n      <td>6.6%</td>\n      <td>50,930</td>\n      <td>416,771</td>\n      <td>20,426</td>\n      <td>329,754</td>\n      <td>GA</td>\n    </tr>\n    <tr>\n      <th>12</th>\n      <td>Hawaii</td>\n      <td>579,165</td>\n      <td>57.5%</td>\n      <td>1,007,920</td>\n      <td>1,114,466</td>\n      <td>9.1%</td>\n      <td>5,007</td>\n      <td>0</td>\n      <td>0</td>\n      <td>5,007</td>\n      <td>HI</td>\n    </tr>\n    <tr>\n      <th>13</th>\n      <td>Idaho</td>\n      <td>875,000</td>\n      <td>67.7%</td>\n      <td>1,292,701</td>\n      <td>1,384,683</td>\n      <td>4.1%</td>\n      <td>8,378</td>\n      <td>34,392</td>\n      <td>5,267</td>\n      <td>34,968</td>\n      <td>ID</td>\n    </tr>\n    <tr>\n      <th>14</th>\n      <td>Illinois</td>\n      <td>6,100,000</td>\n      <td>67.6%</td>\n      <td>9,027,082</td>\n      <td>9,832,749</td>\n      <td>7.8%</td>\n      <td>38,464</td>\n      <td>0</td>\n      <td>0</td>\n      <td>38,464</td>\n      <td>IL</td>\n    </tr>\n    <tr>\n      <th>15</th>\n      <td>Indiana</td>\n      <td>3,070,000</td>\n      <td>61.4%</td>\n      <td>5,000,007</td>\n      <td>5,214,546</td>\n      <td>3.6%</td>\n      <td>26,302</td>\n      <td>0</td>\n      <td>0</td>\n      <td>26,302</td>\n      <td>IN</td>\n    </tr>\n    <tr>\n      <th>16</th>\n      <td>Iowa</td>\n      <td>1,825,000</td>\n      <td>78.6%</td>\n      <td>2,321,131</td>\n      <td>2,439,743</td>\n      <td>3.5%</td>\n      <td>9,216</td>\n      <td>29,137</td>\n      <td>6,652</td>\n      <td>33,933</td>\n      <td>IA</td>\n    </tr>\n    <tr>\n      <th>17</th>\n      <td>Kansas</td>\n      <td>1,340,000</td>\n      <td>64.2%</td>\n      <td>2,087,946</td>\n      <td>2,223,238</td>\n      <td>4.9%</td>\n      <td>9,882</td>\n      <td>16,455</td>\n      <td>5,438</td>\n      <td>25,522</td>\n      <td>KS</td>\n    </tr>\n    <tr>\n      <th>18</th>\n      <td>Kentucky</td>\n      <td>2,150,951</td>\n      <td>64.9%</td>\n      <td>3,312,250</td>\n      <td>3,479,257</td>\n      <td>2.8%</td>\n      <td>23,280</td>\n      <td>46,967</td>\n      <td>15,881</td>\n      <td>68,281</td>\n      <td>KY</td>\n    </tr>\n    <tr>\n      <th>19</th>\n      <td>Louisiana</td>\n      <td>2,155,000</td>\n      <td>63.9%</td>\n      <td>3,373,932</td>\n      <td>3,557,594</td>\n      <td>2.8%</td>\n      <td>32,267</td>\n      <td>35,025</td>\n      <td>29,321</td>\n      <td>83,304</td>\n      <td>LA</td>\n    </tr>\n    <tr>\n      <th>20</th>\n      <td>Maine</td>\n      <td>860,000</td>\n      <td>79.2%</td>\n      <td>1,085,285</td>\n      <td>1,104,489</td>\n      <td>1.7%</td>\n      <td>0</td>\n      <td>0</td>\n      <td>0</td>\n      <td>0</td>\n      <td>ME</td>\n    </tr>\n    <tr>\n      <th>21</th>\n      <td>Maryland</td>\n      <td>3,050,000</td>\n      <td>70.7%</td>\n      <td>4,313,416</td>\n      <td>4,729,400</td>\n      <td>8.4%</td>\n      <td>18,165</td>\n      <td>0</td>\n      <td>0</td>\n      <td>18,165</td>\n      <td>MD</td>\n    </tr>\n    <tr>\n      <th>22</th>\n      <td>Massachusetts</td>\n      <td>3,725,000</td>\n      <td>73.4%</td>\n      <td>5,072,901</td>\n      <td>5,566,452</td>\n      <td>8.7%</td>\n      <td>7,772</td>\n      <td>0</td>\n      <td>0</td>\n      <td>7,772</td>\n      <td>MA</td>\n    </tr>\n    <tr>\n      <th>23</th>\n      <td>Michigan</td>\n      <td>5,559,186</td>\n      <td>73.6%</td>\n      <td>7,550,147</td>\n      <td>7,870,864</td>\n      <td>3.6%</td>\n      <td>38,183</td>\n      <td>0</td>\n      <td>0</td>\n      <td>38,183</td>\n      <td>MI</td>\n    </tr>\n    <tr>\n      <th>24</th>\n      <td>Minnesota</td>\n      <td>3,290,000</td>\n      <td>79.9%</td>\n      <td>4,118,462</td>\n      <td>4,378,737</td>\n      <td>4.1%</td>\n      <td>9,712</td>\n      <td>100,076</td>\n      <td>7,381</td>\n      <td>79,140</td>\n      <td>MN</td>\n    </tr>\n    <tr>\n      <th>25</th>\n      <td>Mississippi</td>\n      <td>1,330,000</td>\n      <td>60.4%</td>\n      <td>2,201,950</td>\n      <td>2,279,412</td>\n      <td>1.4%</td>\n      <td>19,244</td>\n      <td>27,294</td>\n      <td>9,866</td>\n      <td>46,032</td>\n      <td>MS</td>\n    </tr>\n    <tr>\n      <th>26</th>\n      <td>Missouri</td>\n      <td>3,050,000</td>\n      <td>66.3%</td>\n      <td>4,603,060</td>\n      <td>4,794,796</td>\n      <td>2.4%</td>\n      <td>30,148</td>\n      <td>43,871</td>\n      <td>19,251</td>\n      <td>76,599</td>\n      <td>MO</td>\n    </tr>\n    <tr>\n      <th>27</th>\n      <td>Montana</td>\n      <td>612,055</td>\n      <td>73.1%</td>\n      <td>837,298</td>\n      <td>851,663</td>\n      <td>1.2%</td>\n      <td>3,754</td>\n      <td>0</td>\n      <td>0</td>\n      <td>3,754</td>\n      <td>MT</td>\n    </tr>\n    <tr>\n      <th>28</th>\n      <td>Nebraska</td>\n      <td>948,852</td>\n      <td>68.6%</td>\n      <td>1,383,551</td>\n      <td>1,469,878</td>\n      <td>4.8%</td>\n      <td>5,263</td>\n      <td>14,894</td>\n      <td>958</td>\n      <td>15,455</td>\n      <td>NE</td>\n    </tr>\n    <tr>\n      <th>29</th>\n      <td>Nevada</td>\n      <td>1,370,000</td>\n      <td>63.6%</td>\n      <td>2,153,915</td>\n      <td>2,450,946</td>\n      <td>11.6%</td>\n      <td>12,399</td>\n      <td>0</td>\n      <td>0</td>\n      <td>12,399</td>\n      <td>NV</td>\n    </tr>\n    <tr>\n      <th>30</th>\n      <td>New Hampshire</td>\n      <td>814,092</td>\n      <td>75.4%</td>\n      <td>1,079,434</td>\n      <td>1,115,916</td>\n      <td>3.0%</td>\n      <td>2,635</td>\n      <td>0</td>\n      <td>0</td>\n      <td>2,635</td>\n      <td>NH</td>\n    </tr>\n    <tr>\n      <th>31</th>\n      <td>New Jersey</td>\n      <td>4,495,000</td>\n      <td>73.0%</td>\n      <td>6,158,999</td>\n      <td>6,952,008</td>\n      <td>11.1%</td>\n      <td>18,099</td>\n      <td>0</td>\n      <td>0</td>\n      <td>18,099</td>\n      <td>NJ</td>\n    </tr>\n    <tr>\n      <th>32</th>\n      <td>New Mexico</td>\n      <td>923,612</td>\n      <td>61.0%</td>\n      <td>1,515,355</td>\n      <td>1,634,037</td>\n      <td>6.2%</td>\n      <td>6,887</td>\n      <td>12,090</td>\n      <td>2,805</td>\n      <td>17,188</td>\n      <td>NM</td>\n    </tr>\n    <tr>\n      <th>33</th>\n      <td>New York</td>\n      <td>8,930,000</td>\n      <td>65.3%</td>\n      <td>13,670,596</td>\n      <td>15,372,655</td>\n      <td>10.5%</td>\n      <td>42,408</td>\n      <td>0</td>\n      <td>45,192</td>\n      <td>87,600</td>\n      <td>NY</td>\n    </tr>\n    <tr>\n      <th>34</th>\n      <td>North Carolina</td>\n      <td>5,600,000</td>\n      <td>72.2%</td>\n      <td>7,759,051</td>\n      <td>8,328,642</td>\n      <td>5.7%</td>\n      <td>33,640</td>\n      <td>80,068</td>\n      <td>14,215</td>\n      <td>97,497</td>\n      <td>NC</td>\n    </tr>\n    <tr>\n      <th>35</th>\n      <td>North Dakota</td>\n      <td>365,000</td>\n      <td>64.6%</td>\n      <td>565,143</td>\n      <td>584,610</td>\n      <td>3.0%</td>\n      <td>1,679</td>\n      <td>0</td>\n      <td>0</td>\n      <td>1,679</td>\n      <td>ND</td>\n    </tr>\n    <tr>\n      <th>36</th>\n      <td>Ohio</td>\n      <td>6,100,000</td>\n      <td>68.9%</td>\n      <td>8,859,167</td>\n      <td>9,144,626</td>\n      <td>2.6%</td>\n      <td>49,892</td>\n      <td>0</td>\n      <td>0</td>\n      <td>49,892</td>\n      <td>OH</td>\n    </tr>\n    <tr>\n      <th>37</th>\n      <td>Oklahoma</td>\n      <td>1,565,000</td>\n      <td>55.0%</td>\n      <td>2,845,835</td>\n      <td>3,031,792</td>\n      <td>4.3%</td>\n      <td>27,558</td>\n      <td>41,562</td>\n      <td>1,780</td>\n      <td>55,106</td>\n      <td>OK</td>\n    </tr>\n    <tr>\n      <th>38</th>\n      <td>Oregon</td>\n      <td>2,404,642</td>\n      <td>75.2%</td>\n      <td>3,196,425</td>\n      <td>3,405,863</td>\n      <td>5.7%</td>\n      <td>13,795</td>\n      <td>0</td>\n      <td>0</td>\n      <td>13,795</td>\n      <td>OR</td>\n    </tr>\n    <tr>\n      <th>39</th>\n      <td>Pennsylvania</td>\n      <td>6,900,000</td>\n      <td>70.5%</td>\n      <td>9,781,976</td>\n      <td>10,186,170</td>\n      <td>3.5%</td>\n      <td>44,148</td>\n      <td>0</td>\n      <td>0</td>\n      <td>44,148</td>\n      <td>PA</td>\n    </tr>\n    <tr>\n      <th>40</th>\n      <td>Rhode Island</td>\n      <td>520,000</td>\n      <td>65.0%</td>\n      <td>799,642</td>\n      <td>857,507</td>\n      <td>6.4%</td>\n      <td>2,766</td>\n      <td>0</td>\n      <td>0</td>\n      <td>2,766</td>\n      <td>RI</td>\n    </tr>\n    <tr>\n      <th>41</th>\n      <td>South Carolina</td>\n      <td>2,532,995</td>\n      <td>64.5%</td>\n      <td>3,926,305</td>\n      <td>4,116,633</td>\n      <td>3.6%</td>\n      <td>18,587</td>\n      <td>31,975</td>\n      <td>4,980</td>\n      <td>43,392</td>\n      <td>SC</td>\n    </tr>\n    <tr>\n      <th>42</th>\n      <td>South Dakota</td>\n      <td>427,529</td>\n      <td>66.0%</td>\n      <td>648,104</td>\n      <td>675,016</td>\n      <td>2.4%</td>\n      <td>3,867</td>\n      <td>5,989</td>\n      <td>3,201</td>\n      <td>10,781</td>\n      <td>SD</td>\n    </tr>\n    <tr>\n      <th>43</th>\n      <td>Tennessee</td>\n      <td>3,060,000</td>\n      <td>59.7%</td>\n      <td>5,124,867</td>\n      <td>5,391,220</td>\n      <td>3.6%</td>\n      <td>26,107</td>\n      <td>61,253</td>\n      <td>10,842</td>\n      <td>74,926</td>\n      <td>TN</td>\n    </tr>\n    <tr>\n      <th>44</th>\n      <td>Texas</td>\n      <td>11,300,000</td>\n      <td>60.2%</td>\n      <td>18,784,280</td>\n      <td>22,058,260</td>\n      <td>12.6%</td>\n      <td>154,913</td>\n      <td>368,167</td>\n      <td>109,213</td>\n      <td>492,390</td>\n      <td>TX</td>\n    </tr>\n    <tr>\n      <th>45</th>\n      <td>Utah</td>\n      <td>1,450,000</td>\n      <td>66.2%</td>\n      <td>2,191,487</td>\n      <td>2,343,384</td>\n      <td>6.2%</td>\n      <td>6,287</td>\n      <td>0</td>\n      <td>0</td>\n      <td>6,287</td>\n      <td>UT</td>\n    </tr>\n    <tr>\n      <th>46</th>\n      <td>Vermont</td>\n      <td>370,000</td>\n      <td>74.0%</td>\n      <td>499,884</td>\n      <td>511,637</td>\n      <td>2.3%</td>\n      <td>0</td>\n      <td>0</td>\n      <td>0</td>\n      <td>0</td>\n      <td>VT</td>\n    </tr>\n    <tr>\n      <th>47</th>\n      <td>Virginia</td>\n      <td>4,425,000</td>\n      <td>71.4%</td>\n      <td>6,196,071</td>\n      <td>6,727,440</td>\n      <td>6.8%</td>\n      <td>35,743</td>\n      <td>63,111</td>\n      <td>1,860</td>\n      <td>76,732</td>\n      <td>VA</td>\n    </tr>\n    <tr>\n      <th>48</th>\n      <td>Washington</td>\n      <td>4,100,000</td>\n      <td>75.4%</td>\n      <td>5,437,844</td>\n      <td>6,070,046</td>\n      <td>9.1%</td>\n      <td>18,777</td>\n      <td>76,672</td>\n      <td>12,222</td>\n      <td>78,536</td>\n      <td>WA</td>\n    </tr>\n    <tr>\n      <th>49</th>\n      <td>West Virginia</td>\n      <td>795,000</td>\n      <td>57.0%</td>\n      <td>1,394,028</td>\n      <td>1,422,098</td>\n      <td>0.9%</td>\n      <td>6,757</td>\n      <td>6,593</td>\n      <td>4,287</td>\n      <td>15,132</td>\n      <td>WV</td>\n    </tr>\n    <tr>\n      <th>50</th>\n      <td>Wisconsin</td>\n      <td>3,325,000</td>\n      <td>76.1%</td>\n      <td>4,368,530</td>\n      <td>4,586,746</td>\n      <td>3.2%</td>\n      <td>23,574</td>\n      <td>42,909</td>\n      <td>21,015</td>\n      <td>71,193</td>\n      <td>WI</td>\n    </tr>\n    <tr>\n      <th>51</th>\n      <td>Wyoming</td>\n      <td>278,503</td>\n      <td>64.6%</td>\n      <td>431,364</td>\n      <td>447,915</td>\n      <td>2.2%</td>\n      <td>2,488</td>\n      <td>5,383</td>\n      <td>934</td>\n      <td>6,759</td>\n      <td>WY</td>\n    </tr>\n  </tbody>\n</table>\n</div>"
     },
     "metadata": {},
     "execution_count": 1
    }
   ],
   "source": [
    "import pandas as pd \n",
    "import numpy as np\n",
    "\n",
    "data = pd.read_csv('election_data.csv')\n",
    "del data['Source']\n",
    "del data['Official/Unofficial']\n",
    "del data['Vote for Highest Office (President)']\n",
    "del data['Overseas Eligible']\n",
    "data.head(100)"
   ]
  },
  {
   "source": [
    "<br><br><br><br>\n",
    "<center><div style=\"font-size: 30px\"> <b>Data Processing</b> </center>"
   ],
   "cell_type": "markdown",
   "metadata": {}
  },
  {
   "cell_type": "code",
   "execution_count": 2,
   "metadata": {},
   "outputs": [],
   "source": [
    "#code for data processing"
   ]
  },
  {
   "source": [
    "<br><br><br><br>\n",
    "<center><div style=\"font-size: 30px\"> <b>Data Analysis/Visualization</b> </center>"
   ],
   "cell_type": "markdown",
   "metadata": {}
  },
  {
   "cell_type": "code",
   "execution_count": 3,
   "metadata": {},
   "outputs": [],
   "source": [
    "#code for data analyis/visualization"
   ]
  },
  {
   "source": [
    "<br><br><br><br>\n",
    "<center><div style=\"font-size: 30px\"> <b>Hypothesis Testing/ML</b> </center>"
   ],
   "cell_type": "markdown",
   "metadata": {}
  },
  {
   "cell_type": "code",
   "execution_count": 4,
   "metadata": {},
   "outputs": [],
   "source": [
    "#code for hypothesis testing/ML"
   ]
  },
  {
   "source": [
    "<br><br><br><br>\n",
    "<center><div style=\"font-size: 30px\"> <b>Analysis</b> </center>"
   ],
   "cell_type": "markdown",
   "metadata": {}
  },
  {
   "cell_type": "code",
   "execution_count": 5,
   "metadata": {},
   "outputs": [],
   "source": [
    "#code for analysis"
   ]
  }
 ]
}